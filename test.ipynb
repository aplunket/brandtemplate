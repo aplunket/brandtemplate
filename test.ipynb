{
 "cells": [
  {
   "cell_type": "code",
   "execution_count": 5,
   "metadata": {},
   "outputs": [],
   "source": [
    "import yaml\n",
    "import jsondiff\n",
    "from pathlib import Path"
   ]
  },
  {
   "cell_type": "code",
   "execution_count": null,
   "metadata": {},
   "outputs": [],
   "source": [
    "# Function to load YAML file\n",
    "def load_yaml(file_path):\n",
    "    with open(file_path, 'r') as file:\n",
    "        return yaml.safe_load(file)"
   ]
  },
  {
   "cell_type": "code",
   "execution_count": null,
   "metadata": {},
   "outputs": [],
   "source": [
    "def rename_folder(old_folder_path:str, new_folder_name:str):\n",
    "  # Specify the path to the folder you want to rename\n",
    "  old_folder_path = Path('/path/to/your/folder')\n",
    "\n",
    "  # Specify the new name for the folder\n",
    "  new_folder_name = 'new_folder_name'\n",
    "\n",
    "  # Get the parent directory of the folder\n",
    "  parent_directory = old_folder_path.parent\n",
    "\n",
    "  # Form the new path with the new folder name\n",
    "  new_folder_path = parent_directory / new_folder_name\n",
    "\n",
    "  # Rename the folder using the rename() method\n",
    "  old_folder_path.rename(new_folder_path)"
   ]
  },
  {
   "cell_type": "code",
   "execution_count": 42,
   "metadata": {},
   "outputs": [],
   "source": [
    "config = load_yaml('template_config/config.yaml')\n",
    "config_prev = load_yaml('template_config/previous_config.yaml')"
   ]
  },
  {
   "cell_type": "code",
   "execution_count": 43,
   "metadata": {},
   "outputs": [],
   "source": [
    "config_diff = jsondiff.diff(config_prev, config)"
   ]
  },
  {
   "cell_type": "code",
   "execution_count": 47,
   "metadata": {},
   "outputs": [
    {
     "name": "stdout",
     "output_type": "stream",
     "text": [
      "None\n"
     ]
    }
   ],
   "source": [
    "if 'package_name' in config_diff:\n",
    "  config_prev['package_name'])"
   ]
  }
 ],
 "metadata": {
  "kernelspec": {
   "display_name": "brandtemplate-9HWfi1Hk-py3.10",
   "language": "python",
   "name": "python3"
  },
  "language_info": {
   "codemirror_mode": {
    "name": "ipython",
    "version": 3
   },
   "file_extension": ".py",
   "mimetype": "text/x-python",
   "name": "python",
   "nbconvert_exporter": "python",
   "pygments_lexer": "ipython3",
   "version": "3.10.11"
  }
 },
 "nbformat": 4,
 "nbformat_minor": 2
}
