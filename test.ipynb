{
 "cells": [
  {
   "cell_type": "code",
   "execution_count": 58,
   "metadata": {},
   "outputs": [],
   "source": [
    "import yaml\n",
    "import jsondiff\n",
    "from pathlib import Path"
   ]
  },
  {
   "cell_type": "code",
   "execution_count": null,
   "metadata": {},
   "outputs": [],
   "source": [
    "# Function to load YAML file\n",
    "def load_yaml(file_path):\n",
    "    with open(file_path, 'r') as file:\n",
    "        return yaml.safe_load(file)"
   ]
  },
  {
   "cell_type": "code",
   "execution_count": 60,
   "metadata": {},
   "outputs": [],
   "source": [
    "def rename_folder(old_folder_path:str, new_folder_name:str):\n",
    "  old_folder_path = Path(old_folder_path)\n",
    "  parent_directory = old_folder_path.parent\n",
    "  new_folder_path = parent_directory / new_folder_name\n",
    "  old_folder_path.rename(new_folder_path)"
   ]
  },
  {
   "cell_type": "code",
   "execution_count": 68,
   "metadata": {},
   "outputs": [],
   "source": [
    "def replace_line_containing_string(file_path:str, search_string:str, replacement:str):\n",
    "    with open(file_path, 'r') as file:\n",
    "        lines = file.readlines()\n",
    "\n",
    "    found = False\n",
    "    for i, line in enumerate(lines):\n",
    "        if search_string in line:\n",
    "            lines[i] = replacement + '\\n'  # Replace the line\n",
    "\n",
    "            # Mark as found and break the loop\n",
    "            found = True\n",
    "            break\n",
    "    \n",
    "    if found:\n",
    "        with open(file_path, 'w') as file:\n",
    "            file.writelines(lines)"
   ]
  },
  {
   "cell_type": "code",
   "execution_count": 149,
   "metadata": {},
   "outputs": [],
   "source": [
    "config = load_yaml('template_config/config.yaml')\n",
    "config_prev = load_yaml('template_config/previous_config.yaml')\n",
    "config_diff = jsondiff.diff(config_prev, config)"
   ]
  },
  {
   "cell_type": "code",
   "execution_count": 144,
   "metadata": {},
   "outputs": [],
   "source": [
    "#---------------------------------------------------------------------------------\n",
    "# Overall\n",
    "#---------------------------------------------------------------------------------\n",
    "\n",
    "if 'package_name' in config_diff:\n",
    "  current_name=config_prev['package_name']\n",
    "  new_name=config_diff['package_name']\n",
    "  #rename overall folder\n",
    "  rename_folder(current_name, new_name)\n",
    "  #update name in pyproject.toml\n",
    "  replace_line_containing_string(\n",
    "    'pyproject.toml', \n",
    "    f'name = \"{current_name}\"', \n",
    "    f'name = \"{new_name}\"'\n",
    "    )\n",
    "  #update name in _extension.yml\n",
    "  replace_line_containing_string(\n",
    "    f'{new_name}/template_files/_extension.yml', \n",
    "    f'title: {current_name}',\n",
    "    f'title: {new_name}'\n",
    "    )\n",
    "  #update name in template.qmd\n",
    "  replace_line_containing_string(\n",
    "    f'{new_name}/template_files/template.qmd', \n",
    "    f'  {current_name}-revealjs:',\n",
    "    f'  {new_name}-revealjs:',\n",
    "    )\n",
    "  #update name in plotnine_theme.py\n",
    "  replace_line_containing_string(\n",
    "    f'{new_name}/plotnine/plotnine_theme.py', \n",
    "    f'class {current_name}_plotnine_theme(theme_bw):',\n",
    "    f'class {new_name}_plotnine_theme(theme_bw):',\n",
    "    )\n",
    "  #update name in import_template.py\n",
    "  replace_line_containing_string(\n",
    "    f'{new_name}/qmd_template/import_template.py', \n",
    "    f\"  quarto_dir = destination_dir.joinpath('_extenstions/{current_name}')\",\n",
    "    f\"  quarto_dir = destination_dir.joinpath('_extenstions/{new_name}')\",\n",
    "    )\n",
    "  \n",
    "if 'version' in config_diff:\n",
    "  replace_line_containing_string(\n",
    "    'pyproject.toml', \n",
    "    f'version = \"{config_prev[\"version\"]}\"', \n",
    "    f'version = \"{[\"version\"]}\"'\n",
    "    )\n",
    "  \n",
    "if 'authors' in config_diff:\n",
    "  replace_line_containing_string(\n",
    "    'pyproject.toml', \n",
    "    f'authors = {config_prev[\"authors\"]}'.replace(\"'\", '\"'),\n",
    "    f'authors = {config_diff[\"authors\"]}'.replace(\"'\", '\"')\n",
    "    )"
   ]
  },
  {
   "cell_type": "code",
   "execution_count": 145,
   "metadata": {},
   "outputs": [
    {
     "name": "stdout",
     "output_type": "stream",
     "text": [
      "True\n"
     ]
    }
   ],
   "source": [
    "#---------------------------------------------------------------------------------\n",
    "# Font\n",
    "#---------------------------------------------------------------------------------\n",
    "\n",
    "if 'font' in config_diff:\n",
    "  print(True)"
   ]
  },
  {
   "cell_type": "code",
   "execution_count": 146,
   "metadata": {},
   "outputs": [
    {
     "name": "stdout",
     "output_type": "stream",
     "text": [
      "True\n"
     ]
    }
   ],
   "source": [
    "#---------------------------------------------------------------------------------\n",
    "# Quarto\n",
    "#---------------------------------------------------------------------------------\n",
    "\n",
    "if 'quarto' in config_diff:\n",
    "  print(True)"
   ]
  },
  {
   "cell_type": "code",
   "execution_count": 147,
   "metadata": {},
   "outputs": [
    {
     "name": "stdout",
     "output_type": "stream",
     "text": [
      "True\n"
     ]
    }
   ],
   "source": [
    "#---------------------------------------------------------------------------------\n",
    "# plotnine\n",
    "#---------------------------------------------------------------------------------\n",
    "\n",
    "if 'plotnine' in config_diff:\n",
    "  print(True)"
   ]
  },
  {
   "cell_type": "code",
   "execution_count": 151,
   "metadata": {},
   "outputs": [],
   "source": [
    "#---------------------------------------------------------------------------------\n",
    "# great-tables\n",
    "#---------------------------------------------------------------------------------\n",
    "\n",
    "if 'great-tables' in config_diff:\n",
    "  print(True)"
   ]
  }
 ],
 "metadata": {
  "kernelspec": {
   "display_name": "brandtemplate-9HWfi1Hk-py3.10",
   "language": "python",
   "name": "python3"
  },
  "language_info": {
   "codemirror_mode": {
    "name": "ipython",
    "version": 3
   },
   "file_extension": ".py",
   "mimetype": "text/x-python",
   "name": "python",
   "nbconvert_exporter": "python",
   "pygments_lexer": "ipython3",
   "version": "3.10.11"
  }
 },
 "nbformat": 4,
 "nbformat_minor": 2
}
