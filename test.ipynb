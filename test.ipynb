{
 "cells": [
  {
   "cell_type": "code",
   "execution_count": 1,
   "metadata": {},
   "outputs": [],
   "source": [
    "import yaml\n",
    "import jsondiff\n",
    "from pathlib import Path"
   ]
  },
  {
   "cell_type": "code",
   "execution_count": 2,
   "metadata": {},
   "outputs": [],
   "source": [
    "# Function to load YAML file\n",
    "def load_yaml(file_path):\n",
    "    with open(file_path, 'r') as file:\n",
    "        return yaml.safe_load(file)"
   ]
  },
  {
   "cell_type": "code",
   "execution_count": 3,
   "metadata": {},
   "outputs": [],
   "source": [
    "def rename_folder(old_folder_path:str, new_folder_name:str):\n",
    "  old_folder_path = Path(old_folder_path)\n",
    "  parent_directory = old_folder_path.parent\n",
    "  new_folder_path = parent_directory / new_folder_name\n",
    "  old_folder_path.rename(new_folder_path)"
   ]
  },
  {
   "cell_type": "code",
   "execution_count": 4,
   "metadata": {},
   "outputs": [],
   "source": [
    "def replace_line_containing_string(file_path:str, search_string:str, replacement:str):\n",
    "    with open(file_path, 'r') as file:\n",
    "        lines = file.readlines()\n",
    "\n",
    "    found = False\n",
    "    for i, line in enumerate(lines):\n",
    "        if search_string in line:\n",
    "            lines[i] = replacement + '\\n'  # Replace the line\n",
    "\n",
    "            # Mark as found and break the loop\n",
    "            found = True\n",
    "            break\n",
    "    \n",
    "    if found:\n",
    "        with open(file_path, 'w') as file:\n",
    "            file.writelines(lines)"
   ]
  },
  {
   "cell_type": "code",
   "execution_count": 75,
   "metadata": {},
   "outputs": [],
   "source": [
    "config = load_yaml('template_config/config.yaml')\n",
    "config_prev = load_yaml('template_config/previous_config.yaml')\n",
    "config_diff = jsondiff.diff(config_prev, config)\n",
    "\n",
    "current_name=config_prev['package_name']\n",
    "new_name=config['package_name']"
   ]
  },
  {
   "cell_type": "code",
   "execution_count": 144,
   "metadata": {},
   "outputs": [],
   "source": [
    "#---------------------------------------------------------------------------------\n",
    "# Overall\n",
    "#---------------------------------------------------------------------------------\n",
    "\n",
    "if 'package_name' in config_diff:\n",
    "  #rename overall folder\n",
    "  rename_folder(current_name, new_name)\n",
    "  #update name in pyproject.toml\n",
    "  replace_line_containing_string(\n",
    "    'pyproject.toml', \n",
    "    f'name = \"{current_name}\"', \n",
    "    f'name = \"{new_name}\"'\n",
    "    )\n",
    "  #update name in _extension.yml\n",
    "  replace_line_containing_string(\n",
    "    f'{new_name}/template_files/_extension.yml', \n",
    "    f'title: {current_name}',\n",
    "    f'title: {new_name}'\n",
    "    )\n",
    "  #update name in template.qmd\n",
    "  replace_line_containing_string(\n",
    "    f'{new_name}/template_files/template.qmd', \n",
    "    f'  {current_name}-revealjs:',\n",
    "    f'  {new_name}-revealjs:',\n",
    "    )\n",
    "  #update name in plotnine_theme.py\n",
    "  replace_line_containing_string(\n",
    "    f'{new_name}/plotnine/plotnine_theme.py', \n",
    "    f'class {current_name}_plotnine_theme(theme_bw):',\n",
    "    f'class {new_name}_plotnine_theme(theme_bw):',\n",
    "    )\n",
    "  #update name in import_template.py\n",
    "  replace_line_containing_string(\n",
    "    f'{new_name}/qmd_template/import_template.py', \n",
    "    f\"  quarto_dir = destination_dir.joinpath('_extenstions/{current_name}')\",\n",
    "    f\"  quarto_dir = destination_dir.joinpath('_extenstions/{new_name}')\",\n",
    "    )\n",
    "  \n",
    "if 'version' in config_diff:\n",
    "  replace_line_containing_string(\n",
    "    'pyproject.toml', \n",
    "    f'version = \"{config_prev[\"version\"]}\"', \n",
    "    f'version = \"{[\"version\"]}\"'\n",
    "    )\n",
    "  \n",
    "if 'authors' in config_diff:\n",
    "  replace_line_containing_string(\n",
    "    'pyproject.toml', \n",
    "    f'authors = {config_prev[\"authors\"]}'.replace(\"'\", '\"'),\n",
    "    f'authors = {config_diff[\"authors\"]}'.replace(\"'\", '\"')\n",
    "    )"
   ]
  },
  {
   "cell_type": "code",
   "execution_count": 32,
   "metadata": {},
   "outputs": [],
   "source": [
    "#---------------------------------------------------------------------------------\n",
    "# Font\n",
    "#---------------------------------------------------------------------------------\n",
    "\n",
    "if 'font' in config_diff:\n",
    "\n",
    "  #update fonts.css\n",
    "  font_path = f'{new_name}/template_files/fonts.css'\n",
    "\n",
    "  font_family = config['font']['font_family']\n",
    "  font_family_prev = config_prev['font']['font_family']\n",
    "  font_type = config['font']['font_type'].lower()\n",
    "  font_regular = config['font']['font_regular']\n",
    "  font_bold = config['font']['font_bold']\n",
    "  font_italic = config['font']['font_italic']\n",
    "  font_bolditalic = config['font']['font_bolditalic']\n",
    "\n",
    "  # update font type to be used below\n",
    "  if font_type == 'ttf':\n",
    "    font_type = \"truetype\"\n",
    "  elif font_type == 'otf':\n",
    "    font_type = \"opentype\"\n",
    "  elif font_type in ['woff', 'woff2', 'truetype', 'opentype']:\n",
    "    pass #don't need to update in this case as these are valid options\n",
    "  else:\n",
    "    raise ValueError(\"Error: Font type should be one of ttf, otf, woff, woff2\")\n",
    "  \n",
    "  line_font_regular = f'@font-face {{ font-family:{font_family}; font-style:normal; font-weight:400; font-display:swap; src:url(./font/{font_regular}) format(\"{font_type}\"); }}'\n",
    "  line_font_italic = f'@font-face {{ font-family:{font_family}; font-style:italic; font-weight:400; font-display:swap; src:url(./font/{font_italic}) format(\"{font_type}\"); }}'\n",
    "  line_font_bold = f'@font-face {{ font-family:{font_family}; font-style:normal; font-weight:700; font-display:swap; src:url(./font/{font_bold}) format(\"{font_type}\"); }}'\n",
    "  line_font_bolditalic = f'@font-face {{ font-family:{font_family}; font-style:italic; font-weight:700; font-display:swap; src:url(./font/{font_bolditalic}) format(\"{font_type}\"); }}'\n",
    "\n",
    "  with open(font_path, 'w') as file:\n",
    "    file.write(str(line_font_regular) + '\\n')\n",
    "    file.write(str(line_font_italic) + '\\n')\n",
    "    file.write(str(line_font_bold) + '\\n')\n",
    "    file.write(str(line_font_bolditalic) )\n",
    "\n",
    "  #update font in plotnine_theme.py\n",
    "  if 'font_family' in config_diff['font']:\n",
    "    replace_line_containing_string(\n",
    "      f'{new_name}/plotnine/plotnine_theme.py', \n",
    "      f\"BASE_FAMILY='{font_family_prev}'\",\n",
    "      f\"BASE_FAMILY='{font_family}'\",\n",
    "      )\n"
   ]
  },
  {
   "cell_type": "code",
   "execution_count": 146,
   "metadata": {},
   "outputs": [
    {
     "name": "stdout",
     "output_type": "stream",
     "text": [
      "True\n"
     ]
    }
   ],
   "source": [
    "#---------------------------------------------------------------------------------\n",
    "# Quarto\n",
    "#---------------------------------------------------------------------------------\n",
    "\n",
    "if 'quarto' in config_diff:\n",
    "  print(True)"
   ]
  },
  {
   "cell_type": "code",
   "execution_count": null,
   "metadata": {},
   "outputs": [],
   "source": [
    "# to do add section of _extension.yml for logo and title-background"
   ]
  },
  {
   "cell_type": "code",
   "execution_count": 76,
   "metadata": {},
   "outputs": [
    {
     "name": "stdout",
     "output_type": "stream",
     "text": [
      "$title-background: title-background.svg;\n",
      "$section-background: 'section-background.svg';\n",
      "$thank-you-background: 'thank-you-background.svg';\n",
      "$slide-background-image: true;\n",
      "$slide-background: 'background.svg';\n",
      "$page-size: 'A4';\n",
      "$font-size-body: 1.2em;\n",
      "$font-line-height: 1.1em;\n",
      "$font-size-slide-heading: 2.4em;\n",
      "$font-size-slide-subheading: 2.1em;\n",
      "$font-size-title: 4em;\n",
      "$font-size-title-subtitle: 2.8em;\n",
      "$font-size-title-author: 2em;\n",
      "$font-size-section: 3.2em;\n",
      "$font-size-thank-you: 3.2em;\n",
      "$font-size-slide-number: 1em;\n",
      "$color-title: #ffffff;\n",
      "$color-subtitle: #EA4237;\n",
      "$color-author: #ffffff;\n",
      "$color-heading: #3048F3;\n",
      "$color-subheading: #8f8f8f;\n",
      "$color-section: #ffffff;\n",
      "$color-thank-you: #ffffff;\n",
      "$color-body: #131516;\n",
      "$color-accent: #cc0000;\n",
      "$color-body-background: #ffffff;\n",
      "$slide-number-vertical-pos: bottom;\n",
      "$slide-number-horizontal-pos: right;\n",
      "$title-top: 40%;\n",
      "$title-left: 15%;\n",
      "$title-text-align: left;\n",
      "$section-top: 40%;\n",
      "$section-left: 15%;\n",
      "$section-text-align: left;\n",
      "$thank-you-top: 40%;\n",
      "$thank-you-left: 15%;\n",
      "$thank-you-text-align: left;\n",
      "$use_logo: false;\n",
      "$logo_file: logo.svg;\n",
      "$logo-max-width: 15%;\n",
      "$logo-max-height: 5%;\n",
      "$logo-vertical-pos: bottom;\n",
      "$logo-horizontal-pos: right;\n"
     ]
    }
   ],
   "source": [
    "quoted_variables = ['section-background', 'thank-you-background', 'slide-background', 'page-size']\n",
    "true_false_variables = ['logo', 'slide-background-image']\n",
    "\n",
    "for item in config_diff['quarto']:\n",
    "  variable = f'${item.lower()}'\n",
    "  value = str(config[\"quarto\"][item])\n",
    "  value_prev = str(config_prev[\"quarto\"][item])\n",
    "\n",
    "  if item in quoted_variables:\n",
    "    value = f\"'{value}'\"\n",
    "    value_prev = f\"'{value_prev}'\"\n",
    "  if item in true_false_variables:\n",
    "    value = str(value).lower()\n",
    "    value_prev = str(value_prev).lower()\n",
    "\n",
    "  print(f'{variable}: {value};')"
   ]
  },
  {
   "cell_type": "code",
   "execution_count": 147,
   "metadata": {},
   "outputs": [
    {
     "name": "stdout",
     "output_type": "stream",
     "text": [
      "True\n"
     ]
    }
   ],
   "source": [
    "#---------------------------------------------------------------------------------\n",
    "# plotnine\n",
    "#---------------------------------------------------------------------------------\n",
    "\n",
    "if 'plotnine' in config_diff:\n",
    "  for item in config_diff['plotnine']:\n",
    "    variable = item.upper().replace(\"-\", \"_\")\n",
    "    value = config[\"plotnine\"][item]\n",
    "    if not isinstance(value, (int, float)):\n",
    "      value = f\"'{value}'\"\n",
    "    value_prev = config_prev[\"plotnine\"][item]\n",
    "    if not isinstance(value_prev, (int, float, type(None))):\n",
    "      value_prev = f\"'{value_prev}'\"\n",
    "\n",
    "    replace_line_containing_string(\n",
    "      f'{new_name}/plotnine/plotnine_theme.py', \n",
    "      f'{variable}={value_prev}',\n",
    "      f'{variable}={value}',\n",
    "      )"
   ]
  },
  {
   "cell_type": "code",
   "execution_count": 151,
   "metadata": {},
   "outputs": [],
   "source": [
    "#---------------------------------------------------------------------------------\n",
    "# great-tables\n",
    "#---------------------------------------------------------------------------------\n",
    "\n",
    "if 'great-tables' in config_diff:\n",
    "  print(True)"
   ]
  },
  {
   "cell_type": "code",
   "execution_count": 57,
   "metadata": {},
   "outputs": [],
   "source": [
    "#---------------------------------------------------------------------------------\n",
    "# overwrite previous-config.yaml file after all changes are made\n",
    "#---------------------------------------------------------------------------------\n",
    "\n",
    "comment = \"# This YAML file is automatically generated. Do not edit manually.\\n\\n\"\n",
    "\n",
    "with open('template_config/previous_config2.yaml', 'w') as file:\n",
    "    file.write(comment)\n",
    "    yaml.safe_dump(config, file)"
   ]
  }
 ],
 "metadata": {
  "kernelspec": {
   "display_name": "brandtemplate-9HWfi1Hk-py3.10",
   "language": "python",
   "name": "python3"
  },
  "language_info": {
   "codemirror_mode": {
    "name": "ipython",
    "version": 3
   },
   "file_extension": ".py",
   "mimetype": "text/x-python",
   "name": "python",
   "nbconvert_exporter": "python",
   "pygments_lexer": "ipython3",
   "version": "3.10.11"
  }
 },
 "nbformat": 4,
 "nbformat_minor": 2
}
