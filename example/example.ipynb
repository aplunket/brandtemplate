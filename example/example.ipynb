{
 "cells": [
  {
   "cell_type": "markdown",
   "metadata": {},
   "source": [
    "## Plotnine"
   ]
  },
  {
   "cell_type": "code",
   "execution_count": 11,
   "metadata": {},
   "outputs": [],
   "source": [
    "from matplotlib import font_manager\n",
    "font_dir = '.' #looks at all subfolders inside _extensions. This is where the font files should be copied.\n",
    "font_files = font_manager.findSystemFonts(fontpaths=font_dir)\n",
    "for file in font_files:\n",
    "    font_manager.fontManager.addfont(file)"
   ]
  },
  {
   "cell_type": "markdown",
   "metadata": {},
   "source": [
    "### Add theme to graph"
   ]
  },
  {
   "cell_type": "code",
   "execution_count": 12,
   "metadata": {},
   "outputs": [],
   "source": [
    "from plotnine import *\n",
    "from plotnine.data import mpg\n",
    "\n",
    "from brandtemplate import brandtemplate_plotnine_theme\n",
    "\n",
    "graph = (\n",
    "ggplot(mpg, aes(x='class')) +\n",
    "  geom_bar() +\n",
    "  scale_y_continuous(expand=(0,0)) +\n",
    "  brandtemplate_plotnine_theme() #adds base formatting theme to graph\n",
    ")"
   ]
  },
  {
   "cell_type": "code",
   "execution_count": 13,
   "metadata": {},
   "outputs": [],
   "source": [
    "graph.save(filename='graph/plotnine_add_theme.png', format='png', width=8, height=3.5, verbose=0)"
   ]
  },
  {
   "cell_type": "markdown",
   "metadata": {},
   "source": [
    "### Add standard titles to graph "
   ]
  },
  {
   "cell_type": "code",
   "execution_count": 14,
   "metadata": {},
   "outputs": [],
   "source": [
    "from plotnine import *\n",
    "from plotnine.data import mpg\n",
    "\n",
    "from brandtemplate import brandtemplate_plotnine_theme, plotnine_titles\n",
    "\n",
    "graph = (\n",
    "ggplot(mpg, aes(x='class')) +\n",
    "  geom_bar() +\n",
    "  scale_y_continuous(expand=(0,0)) +\n",
    "  brandtemplate_plotnine_theme() \n",
    ")\n",
    "\n",
    "graph = plotnine_titles(\n",
    "  graph,\n",
    "  title='The graph title goes here',\n",
    "  subtitle='The subtitle goes here',\n",
    "  caption='The graph caption goes here'\n",
    "  )"
   ]
  },
  {
   "cell_type": "code",
   "execution_count": 15,
   "metadata": {},
   "outputs": [],
   "source": [
    "graph.set_size_inches(8, 3.5)\n",
    "graph.savefig(\"graph/plotnine_simple_titles.png\", format='png',bbox_inches='tight')"
   ]
  },
  {
   "cell_type": "markdown",
   "metadata": {},
   "source": [
    "### Add complex titles to the graph"
   ]
  },
  {
   "cell_type": "code",
   "execution_count": 16,
   "metadata": {},
   "outputs": [],
   "source": [
    "from plotnine import *\n",
    "from plotnine.data import mpg\n",
    "\n",
    "from brandtemplate import brandtemplate_plotnine_theme, plotnine_titles\n",
    "\n",
    "graph = (\n",
    "ggplot(mpg, aes(x='class')) +\n",
    "  geom_bar() +\n",
    "  scale_y_continuous(expand=(0,0)) +\n",
    "  brandtemplate_plotnine_theme() \n",
    ")\n",
    "\n",
    "graph = plotnine_titles(\n",
    "  graph,\n",
    "  title=['The graph title is ', 'partially red', ' coloured'],\n",
    "  title_color=['black', 'red', 'black']\n",
    "  )"
   ]
  },
  {
   "cell_type": "code",
   "execution_count": 17,
   "metadata": {},
   "outputs": [],
   "source": [
    "graph.set_size_inches(8, 3.5)\n",
    "graph.savefig(\"graph/plotnine_complex_titles.png\", format='png',bbox_inches='tight')"
   ]
  },
  {
   "cell_type": "markdown",
   "metadata": {},
   "source": [
    "### Recolour axis"
   ]
  },
  {
   "cell_type": "code",
   "execution_count": 18,
   "metadata": {},
   "outputs": [],
   "source": [
    "from plotnine import *\n",
    "from plotnine.data import mpg\n",
    "\n",
    "from brandtemplate import brandtemplate_plotnine_theme, plotnine_coloured_axis_labels\n",
    "\n",
    "graph = (\n",
    "ggplot(mpg, aes(x='class')) +\n",
    "  geom_bar() +\n",
    "  scale_y_continuous(expand=(0,0)) +\n",
    "  brandtemplate_plotnine_theme() \n",
    ")\n",
    "\n",
    "graph = plotnine_coloured_axis_labels(\n",
    "  graph,\n",
    "  label_color_dict={'compact':'blue', 'suv':'red'},\n",
    "  axis='X'\n",
    "  )"
   ]
  },
  {
   "cell_type": "code",
   "execution_count": 19,
   "metadata": {},
   "outputs": [],
   "source": [
    "graph.set_size_inches(8, 3.5)\n",
    "graph.savefig(\"graph/plotnine_recolour_axis_text.png\", format='png',bbox_inches='tight')"
   ]
  }
 ],
 "metadata": {
  "kernelspec": {
   "display_name": "brandtemplate-9HWfi1Hk-py3.10",
   "language": "python",
   "name": "python3"
  },
  "language_info": {
   "codemirror_mode": {
    "name": "ipython",
    "version": 3
   },
   "file_extension": ".py",
   "mimetype": "text/x-python",
   "name": "python",
   "nbconvert_exporter": "python",
   "pygments_lexer": "ipython3",
   "version": "3.10.11"
  }
 },
 "nbformat": 4,
 "nbformat_minor": 2
}
