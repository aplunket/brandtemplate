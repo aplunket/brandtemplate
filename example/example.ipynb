{
 "cells": [
  {
   "cell_type": "markdown",
   "metadata": {},
   "source": [
    "## Plotnine"
   ]
  },
  {
   "cell_type": "markdown",
   "metadata": {},
   "source": [
    "### Add theme to graph"
   ]
  },
  {
   "cell_type": "code",
   "execution_count": 1,
   "metadata": {},
   "outputs": [],
   "source": [
    "from plotnine import *\n",
    "from plotnine.data import mpg\n",
    "\n",
    "from brandtemplate import brandtemplate_plotnine_theme\n",
    "\n",
    "graph = (\n",
    "ggplot(mpg, aes(x='class')) +\n",
    "  geom_bar() +\n",
    "  scale_y_continuous(expand=(0,0)) +\n",
    "  brandtemplate_plotnine_theme() #adds base formatting theme to graph\n",
    ")"
   ]
  },
  {
   "cell_type": "code",
   "execution_count": 2,
   "metadata": {},
   "outputs": [
    {
     "name": "stderr",
     "output_type": "stream",
     "text": [
      "/Users/andrewplunket/Library/Caches/pypoetry/virtualenvs/brandtemplate-9HWfi1Hk-py3.10/lib/python3.10/site-packages/plotnine/ggplot.py:606: PlotnineWarning: Saving 8 x 3.5 in image.\n",
      "/Users/andrewplunket/Library/Caches/pypoetry/virtualenvs/brandtemplate-9HWfi1Hk-py3.10/lib/python3.10/site-packages/plotnine/ggplot.py:607: PlotnineWarning: Filename: graph/plotnine_add_theme.png\n"
     ]
    }
   ],
   "source": [
    "graph.save(filename='graph/plotnine_add_theme.png', format='png', width=8, height=3.5)"
   ]
  },
  {
   "cell_type": "markdown",
   "metadata": {},
   "source": [
    "### Add standard titles to graph "
   ]
  },
  {
   "cell_type": "code",
   "execution_count": 3,
   "metadata": {},
   "outputs": [],
   "source": [
    "from plotnine import *\n",
    "from plotnine.data import mpg\n",
    "\n",
    "from brandtemplate import brandtemplate_plotnine_theme, plotnine_titles\n",
    "\n",
    "graph = (\n",
    "ggplot(mpg, aes(x='class')) +\n",
    "  geom_bar() +\n",
    "  scale_y_continuous(expand=(0,0)) +\n",
    "  brandtemplate_plotnine_theme() \n",
    ")\n",
    "\n",
    "graph = plotnine_titles(\n",
    "  graph,\n",
    "  title='The graph title goes here',\n",
    "  subtitle='The subtitle goes here',\n",
    "  caption='The graph caption goes here'\n",
    "  )"
   ]
  },
  {
   "cell_type": "code",
   "execution_count": 4,
   "metadata": {},
   "outputs": [],
   "source": [
    "graph.set_size_inches(8, 3.5)\n",
    "graph.savefig(\"graph/plotnine_simple_titles.png\", format='png',bbox_inches='tight')"
   ]
  },
  {
   "cell_type": "markdown",
   "metadata": {},
   "source": [
    "### Add complex titles to the graph"
   ]
  },
  {
   "cell_type": "code",
   "execution_count": 5,
   "metadata": {},
   "outputs": [],
   "source": [
    "from plotnine import *\n",
    "from plotnine.data import mpg\n",
    "\n",
    "from brandtemplate import brandtemplate_plotnine_theme, plotnine_titles\n",
    "\n",
    "graph = (\n",
    "ggplot(mpg, aes(x='class')) +\n",
    "  geom_bar() +\n",
    "  scale_y_continuous(expand=(0,0)) +\n",
    "  brandtemplate_plotnine_theme() \n",
    ")\n",
    "\n",
    "graph = plotnine_titles(\n",
    "  graph,\n",
    "  title=['The graph title is ', 'partially red', ' coloured'],\n",
    "  title_color=['black', 'red', 'black']\n",
    "  )"
   ]
  },
  {
   "cell_type": "code",
   "execution_count": 6,
   "metadata": {},
   "outputs": [],
   "source": [
    "graph.set_size_inches(8, 3.5)\n",
    "graph.savefig(\"graph/plotnine_complex_titles.png\", format='png',bbox_inches='tight')"
   ]
  },
  {
   "cell_type": "markdown",
   "metadata": {},
   "source": [
    "### Recolour axis"
   ]
  },
  {
   "cell_type": "code",
   "execution_count": 11,
   "metadata": {},
   "outputs": [],
   "source": [
    "from plotnine import *\n",
    "from plotnine.data import mpg\n",
    "\n",
    "from brandtemplate import brandtemplate_plotnine_theme, plotnine_coloured_axis_labels\n",
    "\n",
    "graph = (\n",
    "ggplot(mpg, aes(x='class')) +\n",
    "  geom_bar() +\n",
    "  scale_y_continuous(expand=(0,0)) +\n",
    "  brandtemplate_plotnine_theme() \n",
    ")\n",
    "\n",
    "graph = plotnine_coloured_axis_labels(\n",
    "  graph,\n",
    "  label_color_dict={'compact':'blue', 'suv':'red'},\n",
    "  axis='X'\n",
    "  )"
   ]
  },
  {
   "cell_type": "code",
   "execution_count": 12,
   "metadata": {},
   "outputs": [],
   "source": [
    "graph.set_size_inches(8, 3.5)\n",
    "graph.savefig(\"graph/plotnine_recolour_axis_text.png\", format='png',bbox_inches='tight')"
   ]
  }
 ],
 "metadata": {
  "kernelspec": {
   "display_name": "brandtemplate-9HWfi1Hk-py3.10",
   "language": "python",
   "name": "python3"
  },
  "language_info": {
   "codemirror_mode": {
    "name": "ipython",
    "version": 3
   },
   "file_extension": ".py",
   "mimetype": "text/x-python",
   "name": "python",
   "nbconvert_exporter": "python",
   "pygments_lexer": "ipython3",
   "version": "3.10.11"
  }
 },
 "nbformat": 4,
 "nbformat_minor": 2
}
